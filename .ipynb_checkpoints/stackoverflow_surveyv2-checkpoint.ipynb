{
 "cells": [
  {
   "cell_type": "markdown",
   "id": "26121fae",
   "metadata": {
    "heading_collapsed": true
   },
   "source": [
    "# 0.0 Project Goal"
   ]
  },
  {
   "cell_type": "markdown",
   "id": "0e947395",
   "metadata": {
    "heading_collapsed": true,
    "hidden": true
   },
   "source": [
    "## The goal of this notebook is to analyse the Stack Overflow 2017 survey data, specifically data from Australians that at the moment of the survey were working as developers, and answer the following business questions:\n",
    "\n",
    "*   How do Australian developers suggest you break into the field?\n",
    "*   Are these developers biased in relating to the most effective method that they suggest?\n",
    "*   Is formal education important if you want to pursue this career path?"
   ]
  },
  {
   "cell_type": "markdown",
   "id": "044254d6",
   "metadata": {
    "hidden": true,
    "id": "044254d6"
   },
   "source": [
    "## 0.1 Import Libraries"
   ]
  },
  {
   "cell_type": "code",
   "execution_count": 1,
   "id": "80576ca6",
   "metadata": {
    "ExecuteTime": {
     "end_time": "2022-09-17T11:57:01.958849Z",
     "start_time": "2022-09-17T11:56:24.776540Z"
    },
    "hidden": true,
    "id": "80576ca6"
   },
   "outputs": [],
   "source": [
    "import pandas as pd\n",
    "import numpy as np\n",
    "from collections import defaultdict\n",
    "import matplotlib.pyplot as plt\n",
    "import seaborn as sns"
   ]
  },
  {
   "cell_type": "markdown",
   "id": "486b93e8",
   "metadata": {
    "heading_collapsed": true,
    "id": "486b93e8"
   },
   "source": [
    "# 1.0 Import data"
   ]
  },
  {
   "cell_type": "code",
   "execution_count": 3,
   "id": "ab496961",
   "metadata": {
    "ExecuteTime": {
     "end_time": "2022-09-17T11:58:20.610425Z",
     "start_time": "2022-09-17T11:58:10.083796Z"
    },
    "colab": {
     "base_uri": "https://localhost:8080/",
     "height": 594
    },
    "hidden": true,
    "id": "ab496961",
    "outputId": "b59b6389-1e33-451c-ef9b-1c2c2a82a033"
   },
   "outputs": [
    {
     "data": {
      "text/html": [
       "<div>\n",
       "<style scoped>\n",
       "    .dataframe tbody tr th:only-of-type {\n",
       "        vertical-align: middle;\n",
       "    }\n",
       "\n",
       "    .dataframe tbody tr th {\n",
       "        vertical-align: top;\n",
       "    }\n",
       "\n",
       "    .dataframe thead th {\n",
       "        text-align: right;\n",
       "    }\n",
       "</style>\n",
       "<table border=\"1\" class=\"dataframe\">\n",
       "  <thead>\n",
       "    <tr style=\"text-align: right;\">\n",
       "      <th></th>\n",
       "      <th>Respondent</th>\n",
       "      <th>Professional</th>\n",
       "      <th>ProgramHobby</th>\n",
       "      <th>Country</th>\n",
       "      <th>University</th>\n",
       "      <th>EmploymentStatus</th>\n",
       "      <th>FormalEducation</th>\n",
       "      <th>MajorUndergrad</th>\n",
       "      <th>HomeRemote</th>\n",
       "      <th>CompanySize</th>\n",
       "      <th>...</th>\n",
       "      <th>StackOverflowMakeMoney</th>\n",
       "      <th>Gender</th>\n",
       "      <th>HighestEducationParents</th>\n",
       "      <th>Race</th>\n",
       "      <th>SurveyLong</th>\n",
       "      <th>QuestionsInteresting</th>\n",
       "      <th>QuestionsConfusing</th>\n",
       "      <th>InterestedAnswers</th>\n",
       "      <th>Salary</th>\n",
       "      <th>ExpectedSalary</th>\n",
       "    </tr>\n",
       "  </thead>\n",
       "  <tbody>\n",
       "    <tr>\n",
       "      <th>0</th>\n",
       "      <td>1</td>\n",
       "      <td>Student</td>\n",
       "      <td>Yes, both</td>\n",
       "      <td>United States</td>\n",
       "      <td>No</td>\n",
       "      <td>Not employed, and not looking for work</td>\n",
       "      <td>Secondary school</td>\n",
       "      <td>NaN</td>\n",
       "      <td>NaN</td>\n",
       "      <td>NaN</td>\n",
       "      <td>...</td>\n",
       "      <td>Strongly disagree</td>\n",
       "      <td>Male</td>\n",
       "      <td>High school</td>\n",
       "      <td>White or of European descent</td>\n",
       "      <td>Strongly disagree</td>\n",
       "      <td>Strongly agree</td>\n",
       "      <td>Disagree</td>\n",
       "      <td>Strongly agree</td>\n",
       "      <td>NaN</td>\n",
       "      <td>NaN</td>\n",
       "    </tr>\n",
       "    <tr>\n",
       "      <th>1</th>\n",
       "      <td>2</td>\n",
       "      <td>Student</td>\n",
       "      <td>Yes, both</td>\n",
       "      <td>United Kingdom</td>\n",
       "      <td>Yes, full-time</td>\n",
       "      <td>Employed part-time</td>\n",
       "      <td>Some college/university study without earning ...</td>\n",
       "      <td>Computer science or software engineering</td>\n",
       "      <td>More than half, but not all, the time</td>\n",
       "      <td>20 to 99 employees</td>\n",
       "      <td>...</td>\n",
       "      <td>Strongly disagree</td>\n",
       "      <td>Male</td>\n",
       "      <td>A master's degree</td>\n",
       "      <td>White or of European descent</td>\n",
       "      <td>Somewhat agree</td>\n",
       "      <td>Somewhat agree</td>\n",
       "      <td>Disagree</td>\n",
       "      <td>Strongly agree</td>\n",
       "      <td>NaN</td>\n",
       "      <td>37500.0</td>\n",
       "    </tr>\n",
       "    <tr>\n",
       "      <th>2</th>\n",
       "      <td>3</td>\n",
       "      <td>Professional developer</td>\n",
       "      <td>Yes, both</td>\n",
       "      <td>United Kingdom</td>\n",
       "      <td>No</td>\n",
       "      <td>Employed full-time</td>\n",
       "      <td>Bachelor's degree</td>\n",
       "      <td>Computer science or software engineering</td>\n",
       "      <td>Less than half the time, but at least one day ...</td>\n",
       "      <td>10,000 or more employees</td>\n",
       "      <td>...</td>\n",
       "      <td>Disagree</td>\n",
       "      <td>Male</td>\n",
       "      <td>A professional degree</td>\n",
       "      <td>White or of European descent</td>\n",
       "      <td>Somewhat agree</td>\n",
       "      <td>Agree</td>\n",
       "      <td>Disagree</td>\n",
       "      <td>Agree</td>\n",
       "      <td>113750.0</td>\n",
       "      <td>NaN</td>\n",
       "    </tr>\n",
       "    <tr>\n",
       "      <th>3</th>\n",
       "      <td>4</td>\n",
       "      <td>Professional non-developer who sometimes write...</td>\n",
       "      <td>Yes, both</td>\n",
       "      <td>United States</td>\n",
       "      <td>No</td>\n",
       "      <td>Employed full-time</td>\n",
       "      <td>Doctoral degree</td>\n",
       "      <td>A non-computer-focused engineering discipline</td>\n",
       "      <td>Less than half the time, but at least one day ...</td>\n",
       "      <td>10,000 or more employees</td>\n",
       "      <td>...</td>\n",
       "      <td>Disagree</td>\n",
       "      <td>Male</td>\n",
       "      <td>A doctoral degree</td>\n",
       "      <td>White or of European descent</td>\n",
       "      <td>Agree</td>\n",
       "      <td>Agree</td>\n",
       "      <td>Somewhat agree</td>\n",
       "      <td>Strongly agree</td>\n",
       "      <td>NaN</td>\n",
       "      <td>NaN</td>\n",
       "    </tr>\n",
       "    <tr>\n",
       "      <th>4</th>\n",
       "      <td>5</td>\n",
       "      <td>Professional developer</td>\n",
       "      <td>Yes, I program as a hobby</td>\n",
       "      <td>Switzerland</td>\n",
       "      <td>No</td>\n",
       "      <td>Employed full-time</td>\n",
       "      <td>Master's degree</td>\n",
       "      <td>Computer science or software engineering</td>\n",
       "      <td>Never</td>\n",
       "      <td>10 to 19 employees</td>\n",
       "      <td>...</td>\n",
       "      <td>NaN</td>\n",
       "      <td>NaN</td>\n",
       "      <td>NaN</td>\n",
       "      <td>NaN</td>\n",
       "      <td>NaN</td>\n",
       "      <td>NaN</td>\n",
       "      <td>NaN</td>\n",
       "      <td>NaN</td>\n",
       "      <td>NaN</td>\n",
       "      <td>NaN</td>\n",
       "    </tr>\n",
       "  </tbody>\n",
       "</table>\n",
       "<p>5 rows × 154 columns</p>\n",
       "</div>"
      ],
      "text/plain": [
       "   Respondent                                       Professional  \\\n",
       "0           1                                            Student   \n",
       "1           2                                            Student   \n",
       "2           3                             Professional developer   \n",
       "3           4  Professional non-developer who sometimes write...   \n",
       "4           5                             Professional developer   \n",
       "\n",
       "                ProgramHobby         Country      University  \\\n",
       "0                  Yes, both   United States              No   \n",
       "1                  Yes, both  United Kingdom  Yes, full-time   \n",
       "2                  Yes, both  United Kingdom              No   \n",
       "3                  Yes, both   United States              No   \n",
       "4  Yes, I program as a hobby     Switzerland              No   \n",
       "\n",
       "                         EmploymentStatus  \\\n",
       "0  Not employed, and not looking for work   \n",
       "1                      Employed part-time   \n",
       "2                      Employed full-time   \n",
       "3                      Employed full-time   \n",
       "4                      Employed full-time   \n",
       "\n",
       "                                     FormalEducation  \\\n",
       "0                                   Secondary school   \n",
       "1  Some college/university study without earning ...   \n",
       "2                                  Bachelor's degree   \n",
       "3                                    Doctoral degree   \n",
       "4                                    Master's degree   \n",
       "\n",
       "                                  MajorUndergrad  \\\n",
       "0                                            NaN   \n",
       "1       Computer science or software engineering   \n",
       "2       Computer science or software engineering   \n",
       "3  A non-computer-focused engineering discipline   \n",
       "4       Computer science or software engineering   \n",
       "\n",
       "                                          HomeRemote  \\\n",
       "0                                                NaN   \n",
       "1              More than half, but not all, the time   \n",
       "2  Less than half the time, but at least one day ...   \n",
       "3  Less than half the time, but at least one day ...   \n",
       "4                                              Never   \n",
       "\n",
       "                CompanySize  ... StackOverflowMakeMoney Gender  \\\n",
       "0                       NaN  ...      Strongly disagree   Male   \n",
       "1        20 to 99 employees  ...      Strongly disagree   Male   \n",
       "2  10,000 or more employees  ...               Disagree   Male   \n",
       "3  10,000 or more employees  ...               Disagree   Male   \n",
       "4        10 to 19 employees  ...                    NaN    NaN   \n",
       "\n",
       "  HighestEducationParents                          Race         SurveyLong  \\\n",
       "0             High school  White or of European descent  Strongly disagree   \n",
       "1       A master's degree  White or of European descent     Somewhat agree   \n",
       "2   A professional degree  White or of European descent     Somewhat agree   \n",
       "3       A doctoral degree  White or of European descent              Agree   \n",
       "4                     NaN                           NaN                NaN   \n",
       "\n",
       "  QuestionsInteresting QuestionsConfusing InterestedAnswers    Salary  \\\n",
       "0       Strongly agree           Disagree    Strongly agree       NaN   \n",
       "1       Somewhat agree           Disagree    Strongly agree       NaN   \n",
       "2                Agree           Disagree             Agree  113750.0   \n",
       "3                Agree     Somewhat agree    Strongly agree       NaN   \n",
       "4                  NaN                NaN               NaN       NaN   \n",
       "\n",
       "   ExpectedSalary  \n",
       "0             NaN  \n",
       "1         37500.0  \n",
       "2             NaN  \n",
       "3             NaN  \n",
       "4             NaN  \n",
       "\n",
       "[5 rows x 154 columns]"
      ]
     },
     "execution_count": 3,
     "metadata": {},
     "output_type": "execute_result"
    }
   ],
   "source": [
    "data = pd.read_csv(\"survey_results_public.csv\")\n",
    "data.head()"
   ]
  },
  {
   "cell_type": "markdown",
   "id": "d1140a94",
   "metadata": {
    "heading_collapsed": true,
    "id": "d1140a94"
   },
   "source": [
    "# 2.0 Data Wrangling"
   ]
  },
  {
   "cell_type": "markdown",
   "id": "_LNi8ecooa8o",
   "metadata": {
    "heading_collapsed": true,
    "hidden": true,
    "id": "_LNi8ecooa8o"
   },
   "source": [
    "## 2.1 Data from AU and Professional developers"
   ]
  },
  {
   "cell_type": "code",
   "execution_count": 4,
   "id": "C0R0L7gOnJ0i",
   "metadata": {
    "ExecuteTime": {
     "end_time": "2022-09-17T11:59:00.786005Z",
     "start_time": "2022-09-17T11:59:00.405309Z"
    },
    "colab": {
     "base_uri": "https://localhost:8080/"
    },
    "hidden": true,
    "id": "C0R0L7gOnJ0i",
    "outputId": "44fceb72-1a3d-466c-a675-4444fa59f6b3"
   },
   "outputs": [
    {
     "data": {
      "text/plain": [
       "(913, 154)"
      ]
     },
     "execution_count": 4,
     "metadata": {},
     "output_type": "execute_result"
    }
   ],
   "source": [
    "# data from Australia respondents\n",
    "data_au = data[data['Country'] == 'Australia']\n",
    "data_au.shape"
   ]
  },
  {
   "cell_type": "code",
   "execution_count": 5,
   "id": "9U3qsnsFo7-0",
   "metadata": {
    "ExecuteTime": {
     "end_time": "2022-09-17T11:59:01.796534Z",
     "start_time": "2022-09-17T11:59:01.692609Z"
    },
    "colab": {
     "base_uri": "https://localhost:8080/"
    },
    "hidden": true,
    "id": "9U3qsnsFo7-0",
    "outputId": "f6f15acb-535f-4e6d-e7c4-6bf36e0f87f6"
   },
   "outputs": [
    {
     "data": {
      "text/plain": [
       "(643, 154)"
      ]
     },
     "execution_count": 5,
     "metadata": {},
     "output_type": "execute_result"
    }
   ],
   "source": [
    "# selecting data only with AU developers\n",
    "data_au_professional = data_au[data_au['Professional'] == 'Professional developer']\n",
    "data_au_professional.shape"
   ]
  },
  {
   "cell_type": "code",
   "execution_count": 21,
   "id": "ac2ec577",
   "metadata": {
    "ExecuteTime": {
     "end_time": "2022-09-17T12:27:23.519942Z",
     "start_time": "2022-09-17T12:27:23.498964Z"
    },
    "hidden": true
   },
   "outputs": [],
   "source": [
    "# checking cat and numerical columns\n",
    "data_cat = data_au_professional.select_dtypes(include='object')\n",
    "data_num = data_au_professional.select_dtypes(include=['int64', 'float64'])"
   ]
  },
  {
   "cell_type": "code",
   "execution_count": 31,
   "id": "3a7066e6",
   "metadata": {
    "ExecuteTime": {
     "end_time": "2022-09-17T12:29:04.183142Z",
     "start_time": "2022-09-17T12:29:04.144186Z"
    },
    "hidden": true
   },
   "outputs": [
    {
     "data": {
      "text/html": [
       "<div>\n",
       "<style scoped>\n",
       "    .dataframe tbody tr th:only-of-type {\n",
       "        vertical-align: middle;\n",
       "    }\n",
       "\n",
       "    .dataframe tbody tr th {\n",
       "        vertical-align: top;\n",
       "    }\n",
       "\n",
       "    .dataframe thead th {\n",
       "        text-align: right;\n",
       "    }\n",
       "</style>\n",
       "<table border=\"1\" class=\"dataframe\">\n",
       "  <thead>\n",
       "    <tr style=\"text-align: right;\">\n",
       "      <th></th>\n",
       "      <th>Respondent</th>\n",
       "      <th>CareerSatisfaction</th>\n",
       "      <th>JobSatisfaction</th>\n",
       "      <th>HoursPerWeek</th>\n",
       "      <th>StackOverflowSatisfaction</th>\n",
       "      <th>Salary</th>\n",
       "      <th>ExpectedSalary</th>\n",
       "    </tr>\n",
       "  </thead>\n",
       "  <tbody>\n",
       "    <tr>\n",
       "      <th>count</th>\n",
       "      <td>643.000000</td>\n",
       "      <td>639.000000</td>\n",
       "      <td>618.000000</td>\n",
       "      <td>270.000000</td>\n",
       "      <td>531.000000</td>\n",
       "      <td>256.000000</td>\n",
       "      <td>0.0</td>\n",
       "    </tr>\n",
       "    <tr>\n",
       "      <th>mean</th>\n",
       "      <td>23912.354588</td>\n",
       "      <td>7.582160</td>\n",
       "      <td>7.147249</td>\n",
       "      <td>2.285185</td>\n",
       "      <td>8.384181</td>\n",
       "      <td>69215.755208</td>\n",
       "      <td>NaN</td>\n",
       "    </tr>\n",
       "    <tr>\n",
       "      <th>std</th>\n",
       "      <td>15940.416184</td>\n",
       "      <td>1.764078</td>\n",
       "      <td>2.084752</td>\n",
       "      <td>4.979900</td>\n",
       "      <td>1.322966</td>\n",
       "      <td>25824.661913</td>\n",
       "      <td>NaN</td>\n",
       "    </tr>\n",
       "    <tr>\n",
       "      <th>min</th>\n",
       "      <td>618.000000</td>\n",
       "      <td>0.000000</td>\n",
       "      <td>0.000000</td>\n",
       "      <td>0.000000</td>\n",
       "      <td>2.000000</td>\n",
       "      <td>0.000000</td>\n",
       "      <td>NaN</td>\n",
       "    </tr>\n",
       "    <tr>\n",
       "      <th>25%</th>\n",
       "      <td>9280.500000</td>\n",
       "      <td>7.000000</td>\n",
       "      <td>6.000000</td>\n",
       "      <td>0.000000</td>\n",
       "      <td>8.000000</td>\n",
       "      <td>53030.303030</td>\n",
       "      <td>NaN</td>\n",
       "    </tr>\n",
       "    <tr>\n",
       "      <th>50%</th>\n",
       "      <td>21771.000000</td>\n",
       "      <td>8.000000</td>\n",
       "      <td>8.000000</td>\n",
       "      <td>1.000000</td>\n",
       "      <td>8.000000</td>\n",
       "      <td>66856.060606</td>\n",
       "      <td>NaN</td>\n",
       "    </tr>\n",
       "    <tr>\n",
       "      <th>75%</th>\n",
       "      <td>37916.500000</td>\n",
       "      <td>9.000000</td>\n",
       "      <td>9.000000</td>\n",
       "      <td>2.000000</td>\n",
       "      <td>9.000000</td>\n",
       "      <td>83333.333333</td>\n",
       "      <td>NaN</td>\n",
       "    </tr>\n",
       "    <tr>\n",
       "      <th>max</th>\n",
       "      <td>51328.000000</td>\n",
       "      <td>10.000000</td>\n",
       "      <td>10.000000</td>\n",
       "      <td>40.000000</td>\n",
       "      <td>10.000000</td>\n",
       "      <td>181818.181818</td>\n",
       "      <td>NaN</td>\n",
       "    </tr>\n",
       "  </tbody>\n",
       "</table>\n",
       "</div>"
      ],
      "text/plain": [
       "         Respondent  CareerSatisfaction  JobSatisfaction  HoursPerWeek  \\\n",
       "count    643.000000          639.000000       618.000000    270.000000   \n",
       "mean   23912.354588            7.582160         7.147249      2.285185   \n",
       "std    15940.416184            1.764078         2.084752      4.979900   \n",
       "min      618.000000            0.000000         0.000000      0.000000   \n",
       "25%     9280.500000            7.000000         6.000000      0.000000   \n",
       "50%    21771.000000            8.000000         8.000000      1.000000   \n",
       "75%    37916.500000            9.000000         9.000000      2.000000   \n",
       "max    51328.000000           10.000000        10.000000     40.000000   \n",
       "\n",
       "       StackOverflowSatisfaction         Salary  ExpectedSalary  \n",
       "count                 531.000000     256.000000             0.0  \n",
       "mean                    8.384181   69215.755208             NaN  \n",
       "std                     1.322966   25824.661913             NaN  \n",
       "min                     2.000000       0.000000             NaN  \n",
       "25%                     8.000000   53030.303030             NaN  \n",
       "50%                     8.000000   66856.060606             NaN  \n",
       "75%                     9.000000   83333.333333             NaN  \n",
       "max                    10.000000  181818.181818             NaN  "
      ]
     },
     "execution_count": 31,
     "metadata": {},
     "output_type": "execute_result"
    }
   ],
   "source": [
    "# getting stats for numerical columns\n",
    "data_num.describe()"
   ]
  },
  {
   "cell_type": "code",
   "execution_count": 30,
   "id": "1561ff2f",
   "metadata": {
    "ExecuteTime": {
     "end_time": "2022-09-17T12:28:48.710804Z",
     "start_time": "2022-09-17T12:28:48.694820Z"
    },
    "hidden": true
   },
   "outputs": [
    {
     "data": {
      "text/plain": [
       "['AnnoyingUI',\n",
       " 'AssessJobCommute',\n",
       " 'AssessJobCompensation',\n",
       " 'AssessJobDept',\n",
       " 'AssessJobDiversity',\n",
       " 'AssessJobExp',\n",
       " 'AssessJobFinances',\n",
       " 'AssessJobIndustry',\n",
       " 'AssessJobLeaders',\n",
       " 'AssessJobOffice',\n",
       " 'AssessJobProduct',\n",
       " 'AssessJobProfDevel',\n",
       " 'AssessJobProjects',\n",
       " 'AssessJobRemote',\n",
       " 'AssessJobRole',\n",
       " 'AssessJobTech',\n",
       " 'AuditoryEnvironment',\n",
       " 'BoringDetails',\n",
       " 'BuildingThings',\n",
       " 'ChallengeMyself',\n",
       " 'ChangeWorld',\n",
       " 'CheckInCode',\n",
       " 'ClickyKeys',\n",
       " 'CollaborateRemote',\n",
       " 'CompanySize',\n",
       " 'CompanyType',\n",
       " 'CompetePeers',\n",
       " 'Country',\n",
       " 'CousinEducation',\n",
       " 'Currency',\n",
       " 'DeveloperType',\n",
       " 'DifficultCommunication',\n",
       " 'DiversityImportant',\n",
       " 'EducationImportant',\n",
       " 'EducationTypes',\n",
       " 'EmploymentStatus',\n",
       " 'EnjoyDebugging',\n",
       " 'EquipmentSatisfiedCPU',\n",
       " 'EquipmentSatisfiedMonitors',\n",
       " 'EquipmentSatisfiedRAM',\n",
       " 'EquipmentSatisfiedRW',\n",
       " 'EquipmentSatisfiedStorage',\n",
       " 'ExCoder10Years',\n",
       " 'ExCoderActive',\n",
       " 'ExCoderBalance',\n",
       " 'ExCoderBelonged',\n",
       " 'ExCoderNotForMe',\n",
       " 'ExCoderReturn',\n",
       " 'ExCoderSkills',\n",
       " 'ExCoderWillNotCode',\n",
       " 'FormalEducation',\n",
       " 'FriendsDevelopers',\n",
       " 'Gender',\n",
       " 'HaveWorkedDatabase',\n",
       " 'HaveWorkedFramework',\n",
       " 'HaveWorkedLanguage',\n",
       " 'HaveWorkedPlatform',\n",
       " 'HighestEducationParents',\n",
       " 'HomeRemote',\n",
       " 'IDE',\n",
       " 'ImportantBenefits',\n",
       " 'ImportantHiringAlgorithms',\n",
       " 'ImportantHiringCommunication',\n",
       " 'ImportantHiringCompanies',\n",
       " 'ImportantHiringEducation',\n",
       " 'ImportantHiringGettingThingsDone',\n",
       " 'ImportantHiringOpenSource',\n",
       " 'ImportantHiringPMExp',\n",
       " 'ImportantHiringRep',\n",
       " 'ImportantHiringTechExp',\n",
       " 'ImportantHiringTitles',\n",
       " 'InTheZone',\n",
       " 'InfluenceCloud',\n",
       " 'InfluenceCommunication',\n",
       " 'InfluenceConsultants',\n",
       " 'InfluenceDatabase',\n",
       " 'InfluenceDeptTech',\n",
       " 'InfluenceHardware',\n",
       " 'InfluenceInternet',\n",
       " 'InfluenceRecruitment',\n",
       " 'InfluenceServers',\n",
       " 'InfluenceTechStack',\n",
       " 'InfluenceVizTools',\n",
       " 'InfluenceWorkstation',\n",
       " 'InterestedAnswers',\n",
       " 'InvestTimeTools',\n",
       " 'JobProfile',\n",
       " 'JobSecurity',\n",
       " 'JobSeekingStatus',\n",
       " 'KinshipDevelopers',\n",
       " 'LastNewJob',\n",
       " 'LearnedHiring',\n",
       " 'LearningNewTech',\n",
       " 'MajorUndergrad',\n",
       " 'Methodology',\n",
       " 'MetricAssess',\n",
       " 'MobileDeveloperType',\n",
       " 'NonDeveloperType',\n",
       " 'OtherPeoplesCode',\n",
       " 'Overpaid',\n",
       " 'ProblemSolving',\n",
       " 'Professional',\n",
       " 'ProgramHobby',\n",
       " 'ProjectManagement',\n",
       " 'PronounceGIF',\n",
       " 'QuestionsConfusing',\n",
       " 'QuestionsInteresting',\n",
       " 'Race',\n",
       " 'ResumePrompted',\n",
       " 'RightWrongWay',\n",
       " 'SelfTaughtTypes',\n",
       " 'SeriousWork',\n",
       " 'ShipIt',\n",
       " 'StackOverflowAdsDistracting',\n",
       " 'StackOverflowAdsRelevant',\n",
       " 'StackOverflowAnswer',\n",
       " 'StackOverflowBetter',\n",
       " 'StackOverflowCommunity',\n",
       " 'StackOverflowCompanyPage',\n",
       " 'StackOverflowCopiedCode',\n",
       " 'StackOverflowDescribes',\n",
       " 'StackOverflowDevices',\n",
       " 'StackOverflowFoundAnswer',\n",
       " 'StackOverflowHelpful',\n",
       " 'StackOverflowJobListing',\n",
       " 'StackOverflowJobSearch',\n",
       " 'StackOverflowMakeMoney',\n",
       " 'StackOverflowMetaChat',\n",
       " 'StackOverflowModeration',\n",
       " 'StackOverflowNewQuestion',\n",
       " 'StackOverflowWhatDo',\n",
       " 'SurveyLong',\n",
       " 'TabsSpaces',\n",
       " 'TimeAfterBootcamp',\n",
       " 'UnderstandComputers',\n",
       " 'University',\n",
       " 'VersionControl',\n",
       " 'WantWorkDatabase',\n",
       " 'WantWorkFramework',\n",
       " 'WantWorkLanguage',\n",
       " 'WantWorkPlatform',\n",
       " 'WebDeveloperType',\n",
       " 'WorkPayCare',\n",
       " 'WorkStart',\n",
       " 'YearsCodedJob',\n",
       " 'YearsCodedJobPast',\n",
       " 'YearsProgram']"
      ]
     },
     "execution_count": 30,
     "metadata": {},
     "output_type": "execute_result"
    }
   ],
   "source": [
    "# checking all categorical columns\n",
    "sorted(data_cat.columns)"
   ]
  },
  {
   "cell_type": "markdown",
   "id": "zBRlwQHjwFNT",
   "metadata": {
    "heading_collapsed": true,
    "id": "zBRlwQHjwFNT"
   },
   "source": [
    "# 3.0 Answering business questions"
   ]
  },
  {
   "cell_type": "markdown",
   "id": "v04L58hOwIhS",
   "metadata": {
    "hidden": true,
    "id": "v04L58hOwIhS"
   },
   "source": [
    "## 3.1 How do Australian developers suggest you break into the field?"
   ]
  },
  {
   "cell_type": "markdown",
   "id": "p85tbbrMxGaT",
   "metadata": {
    "heading_collapsed": true,
    "hidden": true,
    "id": "p85tbbrMxGaT"
   },
   "source": [
    "### 3.1.1 CousinEducation column check"
   ]
  },
  {
   "cell_type": "code",
   "execution_count": 8,
   "id": "48cf1c58",
   "metadata": {
    "ExecuteTime": {
     "end_time": "2022-09-17T11:59:39.177924Z",
     "start_time": "2022-09-17T11:59:39.164936Z"
    },
    "hidden": true
   },
   "outputs": [
    {
     "name": "stdout",
     "output_type": "stream",
     "text": [
      "Total missing values for CousinEducation 302 rows\n",
      "Percentage of missing values for CousinEducation: 47.0%\n"
     ]
    }
   ],
   "source": [
    "# We will use the \"CousinEducation\" column to understand Australian developers recommendations\n",
    "# Let's first check how many missing values we've got\n",
    "\n",
    "missing_values_cousin_education = data_au_professional.CousinEducation.isna().sum()\n",
    "\n",
    "print(\"Total missing values for CousinEducation {} rows\".format(missing_values_cousin_education))\n",
    "print(\"Percentage of missing values for CousinEducation: {}%\".format(\n",
    "        round(missing_values_cousin_education / data_au_professional.CousinEducation.shape[0], 2) * 100))"
   ]
  },
  {
   "cell_type": "code",
   "execution_count": 6,
   "id": "HVySBKp-wMCk",
   "metadata": {
    "ExecuteTime": {
     "end_time": "2022-09-17T11:59:04.679486Z",
     "start_time": "2022-09-17T11:59:04.359922Z"
    },
    "colab": {
     "base_uri": "https://localhost:8080/"
    },
    "hidden": true,
    "id": "HVySBKp-wMCk",
    "outputId": "8a5c9177-14c0-490d-f025-6e950324d9bb"
   },
   "outputs": [
    {
     "data": {
      "text/plain": [
       "array(['Return to college; Part-time/evening courses', nan,\n",
       "       'Return to college; Contribute to open source; Buy books and work through the exercises',\n",
       "       \"Return to college; Master's degree; Take online courses; Buy books and work through the exercises\",\n",
       "       'Take online courses; Contribute to open source; Buy books and work through the exercises; Conferences/meet-ups',\n",
       "       'Return to college; Take online courses; Part-time/evening courses',\n",
       "       \"Master's degree; Contribute to open source; Conferences/meet-ups\",\n",
       "       'Return to college; Contribute to open source',\n",
       "       'Contribute to open source; Participate in hackathons',\n",
       "       'Take online courses; Contribute to open source; Bootcamp; Buy books and work through the exercises',\n",
       "       'Buy books and work through the exercises',\n",
       "       'Take online courses; Bootcamp; Part-time/evening courses; Buy books and work through the exercises',\n",
       "       'Take online courses',\n",
       "       'Return to college; Contribute to open source; Buy books and work through the exercises; Other',\n",
       "       \"Master's degree; Part-time/evening courses; Participate in online coding competitions\",\n",
       "       'Take online courses; Part-time/evening courses; Buy books and work through the exercises; Conferences/meet-ups',\n",
       "       'Participate in hackathons; Participate in online coding competitions; Buy books and work through the exercises; Conferences/meet-ups',\n",
       "       'Take online courses; Contribute to open source; Buy books and work through the exercises',\n",
       "       'None of these',\n",
       "       'Get a job as a QA tester; Take online courses; Participate in online coding competitions; Other',\n",
       "       'Bootcamp; Part-time/evening courses; Buy books and work through the exercises',\n",
       "       'Take online courses; Bootcamp; Participate in online coding competitions',\n",
       "       'Return to college; Contribute to open source; Bootcamp; Buy books and work through the exercises',\n",
       "       'Return to college; Take online courses; Contribute to open source; Conferences/meet-ups',\n",
       "       'Take online courses; Bootcamp; Buy books and work through the exercises',\n",
       "       'Take online courses; Buy books and work through the exercises; Other',\n",
       "       'Contribute to open source; Part-time/evening courses; Conferences/meet-ups',\n",
       "       'Contribute to open source; Buy books and work through the exercises',\n",
       "       'Return to college; Get a job as a QA tester; Part-time/evening courses',\n",
       "       'Take online courses; Contribute to open source; Participate in online coding competitions; Buy books and work through the exercises',\n",
       "       'Take online courses; Bootcamp; Part-time/evening courses; Conferences/meet-ups',\n",
       "       'Take online courses; Part-time/evening courses; Buy books and work through the exercises; Other',\n",
       "       'Return to college; Get a job as a QA tester; Take online courses; Contribute to open source',\n",
       "       'Contribute to open source; Participate in hackathons; Participate in online coding competitions',\n",
       "       'Take online courses; Contribute to open source; Participate in hackathons; Buy books and work through the exercises',\n",
       "       \"Master's degree; Take online courses; Part-time/evening courses\",\n",
       "       'Take online courses; Bootcamp; Part-time/evening courses',\n",
       "       'Take online courses; Buy books and work through the exercises',\n",
       "       'Return to college; Take online courses; Buy books and work through the exercises',\n",
       "       'Contribute to open source; Bootcamp; Participate in hackathons; Conferences/meet-ups',\n",
       "       'Return to college; Get a job as a QA tester; Buy books and work through the exercises; Conferences/meet-ups',\n",
       "       'Take online courses; Contribute to open source',\n",
       "       'Take online courses; Buy books and work through the exercises; Conferences/meet-ups; Other',\n",
       "       'Get a job as a QA tester; Conferences/meet-ups',\n",
       "       'Take online courses; Contribute to open source; Part-time/evening courses; Participate in online coding competitions',\n",
       "       'Return to college; Buy books and work through the exercises; Conferences/meet-ups; Other',\n",
       "       'Contribute to open source; Part-time/evening courses; Buy books and work through the exercises; Conferences/meet-ups',\n",
       "       'Take online courses; Conferences/meet-ups',\n",
       "       'Take online courses; Contribute to open source; Bootcamp; Part-time/evening courses',\n",
       "       'Return to college; Take online courses; Part-time/evening courses; Conferences/meet-ups',\n",
       "       'Take online courses; Part-time/evening courses; Buy books and work through the exercises',\n",
       "       'Contribute to open source; Bootcamp',\n",
       "       'Return to college; Take online courses; Bootcamp; Part-time/evening courses',\n",
       "       'Take online courses; Contribute to open source; Part-time/evening courses; Conferences/meet-ups',\n",
       "       'Return to college; Take online courses; Part-time/evening courses; Buy books and work through the exercises',\n",
       "       'Return to college; Take online courses; Buy books and work through the exercises; Conferences/meet-ups',\n",
       "       'Take online courses; Part-time/evening courses; Conferences/meet-ups',\n",
       "       'Buy books and work through the exercises; Conferences/meet-ups',\n",
       "       'Get a job as a QA tester; Contribute to open source; Bootcamp; Buy books and work through the exercises',\n",
       "       'Return to college; Take online courses; Bootcamp',\n",
       "       \"Master's degree; Take online courses; Part-time/evening courses; Buy books and work through the exercises\",\n",
       "       'Return to college; Take online courses',\n",
       "       'Take online courses; Bootcamp',\n",
       "       'Return to college; Contribute to open source; Other',\n",
       "       'Take online courses; Part-time/evening courses; Participate in online coding competitions; Conferences/meet-ups',\n",
       "       'Contribute to open source',\n",
       "       'Get a job as a QA tester; Take online courses; Participate in hackathons; Conferences/meet-ups',\n",
       "       'Take online courses; Contribute to open source; Conferences/meet-ups',\n",
       "       'Take online courses; Contribute to open source; Participate in online coding competitions; Conferences/meet-ups',\n",
       "       'Return to college; Take online courses; Bootcamp; Conferences/meet-ups',\n",
       "       'Contribute to open source; Buy books and work through the exercises; Other',\n",
       "       'Contribute to open source; Part-time/evening courses; Participate in hackathons; Buy books and work through the exercises',\n",
       "       'Return to college; Buy books and work through the exercises',\n",
       "       'Part-time/evening courses; Buy books and work through the exercises; Conferences/meet-ups',\n",
       "       'Take online courses; Contribute to open source; Part-time/evening courses; Buy books and work through the exercises',\n",
       "       'Take online courses; Contribute to open source; Buy books and work through the exercises; Other',\n",
       "       'None of these; Other', 'Other',\n",
       "       'Return to college; Take online courses; Bootcamp; Buy books and work through the exercises',\n",
       "       'Get a job as a QA tester; Bootcamp; Participate in hackathons; Conferences/meet-ups',\n",
       "       'Return to college',\n",
       "       'Take online courses; Bootcamp; Participate in online coding competitions; Buy books and work through the exercises',\n",
       "       'Part-time/evening courses; Buy books and work through the exercises',\n",
       "       'Take online courses; Bootcamp; Buy books and work through the exercises; Conferences/meet-ups',\n",
       "       'Contribute to open source; Bootcamp; Buy books and work through the exercises; Other',\n",
       "       \"Return to college; Master's degree; Contribute to open source; Other\",\n",
       "       'Take online courses; Participate in hackathons; Participate in online coding competitions; Buy books and work through the exercises',\n",
       "       'Get a job as a QA tester',\n",
       "       'Take online courses; Bootcamp; Part-time/evening courses; Other',\n",
       "       'Contribute to open source; Participate in hackathons; Participate in online coding competitions; Conferences/meet-ups',\n",
       "       'Return to college; Take online courses; Part-time/evening courses; Participate in online coding competitions',\n",
       "       'Bootcamp',\n",
       "       'Contribute to open source; Bootcamp; Part-time/evening courses; Buy books and work through the exercises',\n",
       "       'Return to college; Get a job as a QA tester; Contribute to open source; Part-time/evening courses',\n",
       "       'Get a job as a QA tester; Contribute to open source; Participate in hackathons; Conferences/meet-ups',\n",
       "       'Take online courses; Bootcamp; Buy books and work through the exercises; Other',\n",
       "       'Take online courses; Contribute to open source; Bootcamp; Participate in online coding competitions',\n",
       "       \"Return to college; Master's degree; Contribute to open source; Buy books and work through the exercises\",\n",
       "       'Get a job as a QA tester; Take online courses; Part-time/evening courses; Buy books and work through the exercises',\n",
       "       \"Master's degree; Get a job as a QA tester\",\n",
       "       'Take online courses; Bootcamp; Participate in hackathons; Participate in online coding competitions',\n",
       "       'Return to college; Contribute to open source; Bootcamp; Part-time/evening courses',\n",
       "       'Return to college; Take online courses; Contribute to open source; Part-time/evening courses',\n",
       "       \"Master's degree; Get a job as a QA tester; Bootcamp; Buy books and work through the exercises\",\n",
       "       'Get a job as a QA tester; Take online courses; Bootcamp; Buy books and work through the exercises',\n",
       "       'Take online courses; Contribute to open source; Part-time/evening courses; Participate in hackathons',\n",
       "       'Take online courses; Contribute to open source; Participate in hackathons',\n",
       "       'Take online courses; Part-time/evening courses; Participate in online coding competitions; Buy books and work through the exercises',\n",
       "       'Return to college; Take online courses; Contribute to open source',\n",
       "       'Take online courses; Conferences/meet-ups; Other',\n",
       "       'Get a job as a QA tester; Take online courses; Part-time/evening courses; Participate in hackathons',\n",
       "       'Participate in online coding competitions; Other',\n",
       "       'Return to college; Bootcamp; Buy books and work through the exercises; Conferences/meet-ups',\n",
       "       \"Master's degree; Take online courses; Bootcamp; Part-time/evening courses\",\n",
       "       'Get a job as a QA tester; Contribute to open source; Participate in online coding competitions',\n",
       "       'Get a job as a QA tester; Participate in hackathons; Buy books and work through the exercises; Conferences/meet-ups',\n",
       "       'Take online courses; Participate in hackathons; Conferences/meet-ups',\n",
       "       'Contribute to open source; Participate in online coding competitions; Conferences/meet-ups',\n",
       "       'Get a job as a QA tester; Take online courses; Part-time/evening courses; Conferences/meet-ups',\n",
       "       'Take online courses; Bootcamp; Participate in hackathons; Conferences/meet-ups',\n",
       "       'Take online courses; Bootcamp; Part-time/evening courses; Participate in online coding competitions',\n",
       "       'Take online courses; Part-time/evening courses',\n",
       "       'Get a job as a QA tester; Part-time/evening courses; Participate in hackathons; Buy books and work through the exercises',\n",
       "       'Contribute to open source; Conferences/meet-ups; Other',\n",
       "       \"Master's degree; Participate in hackathons\",\n",
       "       \"Master's degree; Take online courses\",\n",
       "       'Return to college; Part-time/evening courses; Buy books and work through the exercises',\n",
       "       'Return to college; Take online courses; Contribute to open source; Buy books and work through the exercises',\n",
       "       \"Return to college; Master's degree; Take online courses; Bootcamp\",\n",
       "       'Take online courses; Buy books and work through the exercises; Conferences/meet-ups',\n",
       "       'Take online courses; Contribute to open source; Other',\n",
       "       'Return to college; Other',\n",
       "       \"Master's degree; Take online courses; Contribute to open source\",\n",
       "       'Contribute to open source; Bootcamp; Participate in online coding competitions; Buy books and work through the exercises',\n",
       "       'Return to college; Contribute to open source; Participate in online coding competitions; Other',\n",
       "       'Take online courses; Contribute to open source; Part-time/evening courses',\n",
       "       'Contribute to open source; Buy books and work through the exercises; Conferences/meet-ups',\n",
       "       'Take online courses; Contribute to open source; Participate in online coding competitions',\n",
       "       'Contribute to open source; Bootcamp; Part-time/evening courses; Participate in online coding competitions',\n",
       "       'Take online courses; Other',\n",
       "       'Bootcamp; Part-time/evening courses',\n",
       "       'Part-time/evening courses; Buy books and work through the exercises; Other',\n",
       "       'Conferences/meet-ups',\n",
       "       'Get a job as a QA tester; Take online courses; Buy books and work through the exercises',\n",
       "       'Contribute to open source; Bootcamp; Other',\n",
       "       'Get a job as a QA tester; Bootcamp; Conferences/meet-ups',\n",
       "       \"Master's degree; Contribute to open source\",\n",
       "       \"Return to college; Master's degree; Bootcamp\",\n",
       "       'Take online courses; Contribute to open source; Bootcamp',\n",
       "       \"Return to college; Master's degree; Conferences/meet-ups; Other\",\n",
       "       'Bootcamp; Buy books and work through the exercises; Conferences/meet-ups; Other',\n",
       "       \"Master's degree; Take online courses; Contribute to open source; Part-time/evening courses\",\n",
       "       \"Return to college; Master's degree; Get a job as a QA tester\",\n",
       "       'Contribute to open source; Part-time/evening courses; Buy books and work through the exercises',\n",
       "       'Return to college; Take online courses; Part-time/evening courses; Other',\n",
       "       \"Return to college; Master's degree; Take online courses; Other\",\n",
       "       'Return to college; Bootcamp; Part-time/evening courses; Buy books and work through the exercises',\n",
       "       \"Return to college; Master's degree; Part-time/evening courses; Buy books and work through the exercises\",\n",
       "       \"Master's degree; Take online courses; Buy books and work through the exercises; Other\",\n",
       "       'Return to college; Buy books and work through the exercises; Other',\n",
       "       'Contribute to open source; Bootcamp; Part-time/evening courses; Conferences/meet-ups',\n",
       "       'Return to college; Take online courses; Contribute to open source; Bootcamp',\n",
       "       'Bootcamp; Participate in hackathons; Buy books and work through the exercises; Conferences/meet-ups',\n",
       "       \"Master's degree; Part-time/evening courses; Conferences/meet-ups\",\n",
       "       'Get a job as a QA tester; Take online courses; Contribute to open source; Conferences/meet-ups',\n",
       "       \"Return to college; Master's degree; Bootcamp; Part-time/evening courses\",\n",
       "       'Return to college; Take online courses; Participate in hackathons',\n",
       "       'Return to college; Take online courses; Contribute to open source; Participate in hackathons',\n",
       "       'Contribute to open source; Participate in hackathons; Buy books and work through the exercises; Conferences/meet-ups',\n",
       "       \"Master's degree; Take online courses; Contribute to open source; Participate in hackathons\",\n",
       "       'Return to college; Get a job as a QA tester; Contribute to open source',\n",
       "       'Bootcamp; Conferences/meet-ups; Other',\n",
       "       'Take online courses; Part-time/evening courses; Participate in hackathons; Participate in online coding competitions',\n",
       "       'Contribute to open source; Participate in hackathons; Participate in online coding competitions; Buy books and work through the exercises',\n",
       "       'Get a job as a QA tester; Take online courses; Part-time/evening courses; Participate in online coding competitions',\n",
       "       'Get a job as a QA tester; Take online courses',\n",
       "       'Return to college; Contribute to open source; Part-time/evening courses; Other',\n",
       "       'Get a job as a QA tester; Take online courses; Bootcamp'],\n",
       "      dtype=object)"
      ]
     },
     "execution_count": 6,
     "metadata": {},
     "output_type": "execute_result"
    }
   ],
   "source": [
    "# Checking unique values for CousinEducation\n",
    "data_au_professional.CousinEducation.unique()"
   ]
  },
  {
   "cell_type": "markdown",
   "id": "enfU0eR3sWoz",
   "metadata": {
    "heading_collapsed": true,
    "hidden": true,
    "id": "enfU0eR3sWoz"
   },
   "source": [
    "### 3.1.2 Dealing with Missing Values for CousinEducation"
   ]
  },
  {
   "cell_type": "markdown",
   "id": "Il1SeCogtcQx",
   "metadata": {
    "hidden": true,
    "id": "Il1SeCogtcQx"
   },
   "source": [
    "CousinEducation is a categorical column with multiple strings in each row and we have less than 50% of missing values on the column. For this particular case I found more effective droping all missing values for this column for me to proceed with the analysis"
   ]
  },
  {
   "cell_type": "code",
   "execution_count": 13,
   "id": "609c2f14",
   "metadata": {
    "ExecuteTime": {
     "end_time": "2022-09-17T12:22:02.428547Z",
     "start_time": "2022-09-17T12:22:02.401576Z"
    },
    "hidden": true
   },
   "outputs": [
    {
     "data": {
      "text/html": [
       "<div>\n",
       "<style scoped>\n",
       "    .dataframe tbody tr th:only-of-type {\n",
       "        vertical-align: middle;\n",
       "    }\n",
       "\n",
       "    .dataframe tbody tr th {\n",
       "        vertical-align: top;\n",
       "    }\n",
       "\n",
       "    .dataframe thead th {\n",
       "        text-align: right;\n",
       "    }\n",
       "</style>\n",
       "<table border=\"1\" class=\"dataframe\">\n",
       "  <thead>\n",
       "    <tr style=\"text-align: right;\">\n",
       "      <th></th>\n",
       "      <th>Respondent</th>\n",
       "      <th>Professional</th>\n",
       "      <th>ProgramHobby</th>\n",
       "      <th>Country</th>\n",
       "      <th>University</th>\n",
       "      <th>EmploymentStatus</th>\n",
       "      <th>FormalEducation</th>\n",
       "      <th>MajorUndergrad</th>\n",
       "      <th>HomeRemote</th>\n",
       "      <th>CompanySize</th>\n",
       "      <th>...</th>\n",
       "      <th>StackOverflowMakeMoney</th>\n",
       "      <th>Gender</th>\n",
       "      <th>HighestEducationParents</th>\n",
       "      <th>Race</th>\n",
       "      <th>SurveyLong</th>\n",
       "      <th>QuestionsInteresting</th>\n",
       "      <th>QuestionsConfusing</th>\n",
       "      <th>InterestedAnswers</th>\n",
       "      <th>Salary</th>\n",
       "      <th>ExpectedSalary</th>\n",
       "    </tr>\n",
       "  </thead>\n",
       "  <tbody>\n",
       "    <tr>\n",
       "      <th>617</th>\n",
       "      <td>618</td>\n",
       "      <td>Professional developer</td>\n",
       "      <td>Yes, I program as a hobby</td>\n",
       "      <td>Australia</td>\n",
       "      <td>No</td>\n",
       "      <td>Employed full-time</td>\n",
       "      <td>Bachelor's degree</td>\n",
       "      <td>Something else</td>\n",
       "      <td>A few days each month</td>\n",
       "      <td>10 to 19 employees</td>\n",
       "      <td>...</td>\n",
       "      <td>Disagree</td>\n",
       "      <td>Male; Female</td>\n",
       "      <td>A master's degree</td>\n",
       "      <td>White or of European descent</td>\n",
       "      <td>Disagree</td>\n",
       "      <td>Agree</td>\n",
       "      <td>Disagree</td>\n",
       "      <td>Strongly agree</td>\n",
       "      <td>46969.696970</td>\n",
       "      <td>NaN</td>\n",
       "    </tr>\n",
       "    <tr>\n",
       "      <th>1162</th>\n",
       "      <td>1163</td>\n",
       "      <td>Professional developer</td>\n",
       "      <td>Yes, both</td>\n",
       "      <td>Australia</td>\n",
       "      <td>No</td>\n",
       "      <td>Employed full-time</td>\n",
       "      <td>Doctoral degree</td>\n",
       "      <td>Computer engineering or electrical/electronics...</td>\n",
       "      <td>All or almost all the time (I'm full-time remote)</td>\n",
       "      <td>10 to 19 employees</td>\n",
       "      <td>...</td>\n",
       "      <td>Strongly disagree</td>\n",
       "      <td>Male</td>\n",
       "      <td>High school</td>\n",
       "      <td>White or of European descent</td>\n",
       "      <td>Disagree</td>\n",
       "      <td>Agree</td>\n",
       "      <td>Strongly disagree</td>\n",
       "      <td>Strongly agree</td>\n",
       "      <td>NaN</td>\n",
       "      <td>NaN</td>\n",
       "    </tr>\n",
       "    <tr>\n",
       "      <th>1652</th>\n",
       "      <td>1653</td>\n",
       "      <td>Professional developer</td>\n",
       "      <td>No</td>\n",
       "      <td>Australia</td>\n",
       "      <td>No</td>\n",
       "      <td>Employed full-time</td>\n",
       "      <td>Master's degree</td>\n",
       "      <td>A humanities discipline</td>\n",
       "      <td>All or almost all the time (I'm full-time remote)</td>\n",
       "      <td>500 to 999 employees</td>\n",
       "      <td>...</td>\n",
       "      <td>Disagree</td>\n",
       "      <td>Male</td>\n",
       "      <td>High school</td>\n",
       "      <td>I prefer not to say</td>\n",
       "      <td>Disagree</td>\n",
       "      <td>Disagree</td>\n",
       "      <td>Disagree</td>\n",
       "      <td>Agree</td>\n",
       "      <td>NaN</td>\n",
       "      <td>NaN</td>\n",
       "    </tr>\n",
       "    <tr>\n",
       "      <th>1944</th>\n",
       "      <td>1945</td>\n",
       "      <td>Professional developer</td>\n",
       "      <td>Yes, both</td>\n",
       "      <td>Australia</td>\n",
       "      <td>No</td>\n",
       "      <td>Employed full-time</td>\n",
       "      <td>Bachelor's degree</td>\n",
       "      <td>Computer programming or Web development</td>\n",
       "      <td>A few days each month</td>\n",
       "      <td>500 to 999 employees</td>\n",
       "      <td>...</td>\n",
       "      <td>Disagree</td>\n",
       "      <td>Male</td>\n",
       "      <td>High school</td>\n",
       "      <td>White or of European descent</td>\n",
       "      <td>Disagree</td>\n",
       "      <td>Agree</td>\n",
       "      <td>Disagree</td>\n",
       "      <td>Strongly agree</td>\n",
       "      <td>58333.333333</td>\n",
       "      <td>NaN</td>\n",
       "    </tr>\n",
       "    <tr>\n",
       "      <th>2016</th>\n",
       "      <td>2017</td>\n",
       "      <td>Professional developer</td>\n",
       "      <td>Yes, I program as a hobby</td>\n",
       "      <td>Australia</td>\n",
       "      <td>No</td>\n",
       "      <td>Employed full-time</td>\n",
       "      <td>Bachelor's degree</td>\n",
       "      <td>Computer science or software engineering</td>\n",
       "      <td>A few days each month</td>\n",
       "      <td>10 to 19 employees</td>\n",
       "      <td>...</td>\n",
       "      <td>Disagree</td>\n",
       "      <td>Male</td>\n",
       "      <td>Some college/university study, no bachelor's d...</td>\n",
       "      <td>White or of European descent</td>\n",
       "      <td>Strongly agree</td>\n",
       "      <td>Somewhat agree</td>\n",
       "      <td>Disagree</td>\n",
       "      <td>Agree</td>\n",
       "      <td>NaN</td>\n",
       "      <td>NaN</td>\n",
       "    </tr>\n",
       "  </tbody>\n",
       "</table>\n",
       "<p>5 rows × 154 columns</p>\n",
       "</div>"
      ],
      "text/plain": [
       "      Respondent            Professional               ProgramHobby  \\\n",
       "617          618  Professional developer  Yes, I program as a hobby   \n",
       "1162        1163  Professional developer                  Yes, both   \n",
       "1652        1653  Professional developer                         No   \n",
       "1944        1945  Professional developer                  Yes, both   \n",
       "2016        2017  Professional developer  Yes, I program as a hobby   \n",
       "\n",
       "        Country University    EmploymentStatus    FormalEducation  \\\n",
       "617   Australia         No  Employed full-time  Bachelor's degree   \n",
       "1162  Australia         No  Employed full-time    Doctoral degree   \n",
       "1652  Australia         No  Employed full-time    Master's degree   \n",
       "1944  Australia         No  Employed full-time  Bachelor's degree   \n",
       "2016  Australia         No  Employed full-time  Bachelor's degree   \n",
       "\n",
       "                                         MajorUndergrad  \\\n",
       "617                                      Something else   \n",
       "1162  Computer engineering or electrical/electronics...   \n",
       "1652                            A humanities discipline   \n",
       "1944            Computer programming or Web development   \n",
       "2016           Computer science or software engineering   \n",
       "\n",
       "                                             HomeRemote           CompanySize  \\\n",
       "617                               A few days each month    10 to 19 employees   \n",
       "1162  All or almost all the time (I'm full-time remote)    10 to 19 employees   \n",
       "1652  All or almost all the time (I'm full-time remote)  500 to 999 employees   \n",
       "1944                              A few days each month  500 to 999 employees   \n",
       "2016                              A few days each month    10 to 19 employees   \n",
       "\n",
       "      ... StackOverflowMakeMoney        Gender  \\\n",
       "617   ...               Disagree  Male; Female   \n",
       "1162  ...      Strongly disagree          Male   \n",
       "1652  ...               Disagree          Male   \n",
       "1944  ...               Disagree          Male   \n",
       "2016  ...               Disagree          Male   \n",
       "\n",
       "                                HighestEducationParents  \\\n",
       "617                                   A master's degree   \n",
       "1162                                        High school   \n",
       "1652                                        High school   \n",
       "1944                                        High school   \n",
       "2016  Some college/university study, no bachelor's d...   \n",
       "\n",
       "                              Race      SurveyLong QuestionsInteresting  \\\n",
       "617   White or of European descent        Disagree                Agree   \n",
       "1162  White or of European descent        Disagree                Agree   \n",
       "1652           I prefer not to say        Disagree             Disagree   \n",
       "1944  White or of European descent        Disagree                Agree   \n",
       "2016  White or of European descent  Strongly agree       Somewhat agree   \n",
       "\n",
       "     QuestionsConfusing InterestedAnswers        Salary  ExpectedSalary  \n",
       "617            Disagree    Strongly agree  46969.696970             NaN  \n",
       "1162  Strongly disagree    Strongly agree           NaN             NaN  \n",
       "1652           Disagree             Agree           NaN             NaN  \n",
       "1944           Disagree    Strongly agree  58333.333333             NaN  \n",
       "2016           Disagree             Agree           NaN             NaN  \n",
       "\n",
       "[5 rows x 154 columns]"
      ]
     },
     "execution_count": 13,
     "metadata": {},
     "output_type": "execute_result"
    }
   ],
   "source": [
    "# Creating a new dataframe with dropped NA values from CousinEducation\n",
    "data_au_professional_no_na = data_au_professional.dropna(subset=['CousinEducation'])\n",
    "data_au_professional_no_na.head()"
   ]
  },
  {
   "cell_type": "code",
   "execution_count": 14,
   "id": "06435310",
   "metadata": {
    "ExecuteTime": {
     "end_time": "2022-09-17T12:22:18.454796Z",
     "start_time": "2022-09-17T12:22:18.441796Z"
    },
    "hidden": true
   },
   "outputs": [
    {
     "data": {
      "text/plain": [
       "0"
      ]
     },
     "execution_count": 14,
     "metadata": {},
     "output_type": "execute_result"
    }
   ],
   "source": [
    "#checking NA values\n",
    "data_au_professional_no_na.CousinEducation.isna().sum()"
   ]
  },
  {
   "cell_type": "markdown",
   "id": "7bad1ffe",
   "metadata": {
    "heading_collapsed": true,
    "hidden": true
   },
   "source": [
    "### 3.1.3 CousinEducation count and visualization"
   ]
  },
  {
   "cell_type": "code",
   "execution_count": 17,
   "id": "gVczR3QYwMum",
   "metadata": {
    "ExecuteTime": {
     "end_time": "2022-09-17T12:24:52.859077Z",
     "start_time": "2022-09-17T12:24:52.842113Z"
    },
    "hidden": true,
    "id": "gVczR3QYwMum"
   },
   "outputs": [],
   "source": [
    "# We want to break and count it down all those strings separately\n",
    "\n",
    "# function to count strings within a list of strings\n",
    "\n",
    "def total_count(df, col1, col2, look_for):\n",
    "    '''\n",
    "    INPUT:\n",
    "    df - the pandas dataframe you want to search\n",
    "    col1 - the column name you want to look through\n",
    "    col2 - the column you want to count values from\n",
    "    look_for - a list of strings you want to search for in each row of df[col]\n",
    "\n",
    "    OUTPUT:\n",
    "    new_df - a dataframe of each look_for with the count of how often it shows up\n",
    "    '''\n",
    "    new_df = defaultdict(int)\n",
    "    #loop through list of ed types\n",
    "    for val in look_for:\n",
    "        #loop through rows\n",
    "        for idx in range(df.shape[0]):\n",
    "            #if the ed type is in the row add 1\n",
    "            if val in df[col1][idx]:\n",
    "                new_df[val] += int(df[col2][idx])\n",
    "    new_df = pd.DataFrame(pd.Series(new_df)).reset_index()\n",
    "    new_df.columns = [col1, col2]\n",
    "    new_df.sort_values('count', ascending=True, inplace=True)\n",
    "    return new_df\n",
    "\n"
   ]
  },
  {
   "cell_type": "code",
   "execution_count": 15,
   "id": "d71911ab",
   "metadata": {
    "ExecuteTime": {
     "end_time": "2022-09-17T12:24:10.439105Z",
     "start_time": "2022-09-17T12:24:10.404141Z"
    },
    "hidden": true
   },
   "outputs": [
    {
     "data": {
      "text/plain": [
       "array(['Return to college; Part-time/evening courses',\n",
       "       'Return to college; Contribute to open source; Buy books and work through the exercises',\n",
       "       \"Return to college; Master's degree; Take online courses; Buy books and work through the exercises\",\n",
       "       'Take online courses; Contribute to open source; Buy books and work through the exercises; Conferences/meet-ups',\n",
       "       'Return to college; Take online courses; Part-time/evening courses',\n",
       "       \"Master's degree; Contribute to open source; Conferences/meet-ups\",\n",
       "       'Return to college; Contribute to open source',\n",
       "       'Contribute to open source; Participate in hackathons',\n",
       "       'Take online courses; Contribute to open source; Bootcamp; Buy books and work through the exercises',\n",
       "       'Buy books and work through the exercises',\n",
       "       'Take online courses; Bootcamp; Part-time/evening courses; Buy books and work through the exercises',\n",
       "       'Take online courses',\n",
       "       'Return to college; Contribute to open source; Buy books and work through the exercises; Other',\n",
       "       \"Master's degree; Part-time/evening courses; Participate in online coding competitions\",\n",
       "       'Take online courses; Part-time/evening courses; Buy books and work through the exercises; Conferences/meet-ups',\n",
       "       'Participate in hackathons; Participate in online coding competitions; Buy books and work through the exercises; Conferences/meet-ups',\n",
       "       'Take online courses; Contribute to open source; Buy books and work through the exercises',\n",
       "       'None of these',\n",
       "       'Get a job as a QA tester; Take online courses; Participate in online coding competitions; Other',\n",
       "       'Bootcamp; Part-time/evening courses; Buy books and work through the exercises',\n",
       "       'Take online courses; Bootcamp; Participate in online coding competitions',\n",
       "       'Return to college; Contribute to open source; Bootcamp; Buy books and work through the exercises',\n",
       "       'Return to college; Take online courses; Contribute to open source; Conferences/meet-ups',\n",
       "       'Take online courses; Bootcamp; Buy books and work through the exercises',\n",
       "       'Take online courses; Buy books and work through the exercises; Other',\n",
       "       'Contribute to open source; Part-time/evening courses; Conferences/meet-ups',\n",
       "       'Contribute to open source; Buy books and work through the exercises',\n",
       "       'Return to college; Get a job as a QA tester; Part-time/evening courses',\n",
       "       'Take online courses; Contribute to open source; Participate in online coding competitions; Buy books and work through the exercises',\n",
       "       'Take online courses; Bootcamp; Part-time/evening courses; Conferences/meet-ups',\n",
       "       'Take online courses; Part-time/evening courses; Buy books and work through the exercises; Other',\n",
       "       'Return to college; Get a job as a QA tester; Take online courses; Contribute to open source',\n",
       "       'Contribute to open source; Participate in hackathons; Participate in online coding competitions',\n",
       "       'Take online courses; Contribute to open source; Participate in hackathons; Buy books and work through the exercises',\n",
       "       \"Master's degree; Take online courses; Part-time/evening courses\",\n",
       "       'Take online courses; Bootcamp; Part-time/evening courses',\n",
       "       'Take online courses; Buy books and work through the exercises',\n",
       "       'Return to college; Take online courses; Buy books and work through the exercises',\n",
       "       'Contribute to open source; Bootcamp; Participate in hackathons; Conferences/meet-ups',\n",
       "       'Return to college; Get a job as a QA tester; Buy books and work through the exercises; Conferences/meet-ups',\n",
       "       'Take online courses; Contribute to open source',\n",
       "       'Take online courses; Buy books and work through the exercises; Conferences/meet-ups; Other',\n",
       "       'Get a job as a QA tester; Conferences/meet-ups',\n",
       "       'Take online courses; Contribute to open source; Part-time/evening courses; Participate in online coding competitions',\n",
       "       'Return to college; Buy books and work through the exercises; Conferences/meet-ups; Other',\n",
       "       'Contribute to open source; Part-time/evening courses; Buy books and work through the exercises; Conferences/meet-ups',\n",
       "       'Take online courses; Conferences/meet-ups',\n",
       "       'Take online courses; Contribute to open source; Bootcamp; Part-time/evening courses',\n",
       "       'Return to college; Take online courses; Part-time/evening courses; Conferences/meet-ups',\n",
       "       'Take online courses; Part-time/evening courses; Buy books and work through the exercises',\n",
       "       'Contribute to open source; Bootcamp',\n",
       "       'Return to college; Take online courses; Bootcamp; Part-time/evening courses',\n",
       "       'Take online courses; Contribute to open source; Part-time/evening courses; Conferences/meet-ups',\n",
       "       'Return to college; Take online courses; Part-time/evening courses; Buy books and work through the exercises',\n",
       "       'Return to college; Take online courses; Buy books and work through the exercises; Conferences/meet-ups',\n",
       "       'Take online courses; Part-time/evening courses; Conferences/meet-ups',\n",
       "       'Buy books and work through the exercises; Conferences/meet-ups',\n",
       "       'Get a job as a QA tester; Contribute to open source; Bootcamp; Buy books and work through the exercises',\n",
       "       'Return to college; Take online courses; Bootcamp',\n",
       "       \"Master's degree; Take online courses; Part-time/evening courses; Buy books and work through the exercises\",\n",
       "       'Return to college; Take online courses',\n",
       "       'Take online courses; Bootcamp',\n",
       "       'Return to college; Contribute to open source; Other',\n",
       "       'Take online courses; Part-time/evening courses; Participate in online coding competitions; Conferences/meet-ups',\n",
       "       'Contribute to open source',\n",
       "       'Get a job as a QA tester; Take online courses; Participate in hackathons; Conferences/meet-ups',\n",
       "       'Take online courses; Contribute to open source; Conferences/meet-ups',\n",
       "       'Take online courses; Contribute to open source; Participate in online coding competitions; Conferences/meet-ups',\n",
       "       'Return to college; Take online courses; Bootcamp; Conferences/meet-ups',\n",
       "       'Contribute to open source; Buy books and work through the exercises; Other',\n",
       "       'Contribute to open source; Part-time/evening courses; Participate in hackathons; Buy books and work through the exercises',\n",
       "       'Return to college; Buy books and work through the exercises',\n",
       "       'Part-time/evening courses; Buy books and work through the exercises; Conferences/meet-ups',\n",
       "       'Take online courses; Contribute to open source; Part-time/evening courses; Buy books and work through the exercises',\n",
       "       'Take online courses; Contribute to open source; Buy books and work through the exercises; Other',\n",
       "       'None of these; Other', 'Other',\n",
       "       'Return to college; Take online courses; Bootcamp; Buy books and work through the exercises',\n",
       "       'Get a job as a QA tester; Bootcamp; Participate in hackathons; Conferences/meet-ups',\n",
       "       'Return to college',\n",
       "       'Take online courses; Bootcamp; Participate in online coding competitions; Buy books and work through the exercises',\n",
       "       'Part-time/evening courses; Buy books and work through the exercises',\n",
       "       'Take online courses; Bootcamp; Buy books and work through the exercises; Conferences/meet-ups',\n",
       "       'Contribute to open source; Bootcamp; Buy books and work through the exercises; Other',\n",
       "       \"Return to college; Master's degree; Contribute to open source; Other\",\n",
       "       'Take online courses; Participate in hackathons; Participate in online coding competitions; Buy books and work through the exercises',\n",
       "       'Get a job as a QA tester',\n",
       "       'Take online courses; Bootcamp; Part-time/evening courses; Other',\n",
       "       'Contribute to open source; Participate in hackathons; Participate in online coding competitions; Conferences/meet-ups',\n",
       "       'Return to college; Take online courses; Part-time/evening courses; Participate in online coding competitions',\n",
       "       'Bootcamp',\n",
       "       'Contribute to open source; Bootcamp; Part-time/evening courses; Buy books and work through the exercises',\n",
       "       'Return to college; Get a job as a QA tester; Contribute to open source; Part-time/evening courses',\n",
       "       'Get a job as a QA tester; Contribute to open source; Participate in hackathons; Conferences/meet-ups',\n",
       "       'Take online courses; Bootcamp; Buy books and work through the exercises; Other',\n",
       "       'Take online courses; Contribute to open source; Bootcamp; Participate in online coding competitions',\n",
       "       \"Return to college; Master's degree; Contribute to open source; Buy books and work through the exercises\",\n",
       "       'Get a job as a QA tester; Take online courses; Part-time/evening courses; Buy books and work through the exercises',\n",
       "       \"Master's degree; Get a job as a QA tester\",\n",
       "       'Take online courses; Bootcamp; Participate in hackathons; Participate in online coding competitions',\n",
       "       'Return to college; Contribute to open source; Bootcamp; Part-time/evening courses',\n",
       "       'Return to college; Take online courses; Contribute to open source; Part-time/evening courses',\n",
       "       \"Master's degree; Get a job as a QA tester; Bootcamp; Buy books and work through the exercises\",\n",
       "       'Get a job as a QA tester; Take online courses; Bootcamp; Buy books and work through the exercises',\n",
       "       'Take online courses; Contribute to open source; Part-time/evening courses; Participate in hackathons',\n",
       "       'Take online courses; Contribute to open source; Participate in hackathons',\n",
       "       'Take online courses; Part-time/evening courses; Participate in online coding competitions; Buy books and work through the exercises',\n",
       "       'Return to college; Take online courses; Contribute to open source',\n",
       "       'Take online courses; Conferences/meet-ups; Other',\n",
       "       'Get a job as a QA tester; Take online courses; Part-time/evening courses; Participate in hackathons',\n",
       "       'Participate in online coding competitions; Other',\n",
       "       'Return to college; Bootcamp; Buy books and work through the exercises; Conferences/meet-ups',\n",
       "       \"Master's degree; Take online courses; Bootcamp; Part-time/evening courses\",\n",
       "       'Get a job as a QA tester; Contribute to open source; Participate in online coding competitions',\n",
       "       'Get a job as a QA tester; Participate in hackathons; Buy books and work through the exercises; Conferences/meet-ups',\n",
       "       'Take online courses; Participate in hackathons; Conferences/meet-ups',\n",
       "       'Contribute to open source; Participate in online coding competitions; Conferences/meet-ups',\n",
       "       'Get a job as a QA tester; Take online courses; Part-time/evening courses; Conferences/meet-ups',\n",
       "       'Take online courses; Bootcamp; Participate in hackathons; Conferences/meet-ups',\n",
       "       'Take online courses; Bootcamp; Part-time/evening courses; Participate in online coding competitions',\n",
       "       'Take online courses; Part-time/evening courses',\n",
       "       'Get a job as a QA tester; Part-time/evening courses; Participate in hackathons; Buy books and work through the exercises',\n",
       "       'Contribute to open source; Conferences/meet-ups; Other',\n",
       "       \"Master's degree; Participate in hackathons\",\n",
       "       \"Master's degree; Take online courses\",\n",
       "       'Return to college; Part-time/evening courses; Buy books and work through the exercises',\n",
       "       'Return to college; Take online courses; Contribute to open source; Buy books and work through the exercises',\n",
       "       \"Return to college; Master's degree; Take online courses; Bootcamp\",\n",
       "       'Take online courses; Buy books and work through the exercises; Conferences/meet-ups',\n",
       "       'Take online courses; Contribute to open source; Other',\n",
       "       'Return to college; Other',\n",
       "       \"Master's degree; Take online courses; Contribute to open source\",\n",
       "       'Contribute to open source; Bootcamp; Participate in online coding competitions; Buy books and work through the exercises',\n",
       "       'Return to college; Contribute to open source; Participate in online coding competitions; Other',\n",
       "       'Take online courses; Contribute to open source; Part-time/evening courses',\n",
       "       'Contribute to open source; Buy books and work through the exercises; Conferences/meet-ups',\n",
       "       'Take online courses; Contribute to open source; Participate in online coding competitions',\n",
       "       'Contribute to open source; Bootcamp; Part-time/evening courses; Participate in online coding competitions',\n",
       "       'Take online courses; Other',\n",
       "       'Bootcamp; Part-time/evening courses',\n",
       "       'Part-time/evening courses; Buy books and work through the exercises; Other',\n",
       "       'Conferences/meet-ups',\n",
       "       'Get a job as a QA tester; Take online courses; Buy books and work through the exercises',\n",
       "       'Contribute to open source; Bootcamp; Other',\n",
       "       'Get a job as a QA tester; Bootcamp; Conferences/meet-ups',\n",
       "       \"Master's degree; Contribute to open source\",\n",
       "       \"Return to college; Master's degree; Bootcamp\",\n",
       "       'Take online courses; Contribute to open source; Bootcamp',\n",
       "       \"Return to college; Master's degree; Conferences/meet-ups; Other\",\n",
       "       'Bootcamp; Buy books and work through the exercises; Conferences/meet-ups; Other',\n",
       "       \"Master's degree; Take online courses; Contribute to open source; Part-time/evening courses\",\n",
       "       \"Return to college; Master's degree; Get a job as a QA tester\",\n",
       "       'Contribute to open source; Part-time/evening courses; Buy books and work through the exercises',\n",
       "       'Return to college; Take online courses; Part-time/evening courses; Other',\n",
       "       \"Return to college; Master's degree; Take online courses; Other\",\n",
       "       'Return to college; Bootcamp; Part-time/evening courses; Buy books and work through the exercises',\n",
       "       \"Return to college; Master's degree; Part-time/evening courses; Buy books and work through the exercises\",\n",
       "       \"Master's degree; Take online courses; Buy books and work through the exercises; Other\",\n",
       "       'Return to college; Buy books and work through the exercises; Other',\n",
       "       'Contribute to open source; Bootcamp; Part-time/evening courses; Conferences/meet-ups',\n",
       "       'Return to college; Take online courses; Contribute to open source; Bootcamp',\n",
       "       'Bootcamp; Participate in hackathons; Buy books and work through the exercises; Conferences/meet-ups',\n",
       "       \"Master's degree; Part-time/evening courses; Conferences/meet-ups\",\n",
       "       'Get a job as a QA tester; Take online courses; Contribute to open source; Conferences/meet-ups',\n",
       "       \"Return to college; Master's degree; Bootcamp; Part-time/evening courses\",\n",
       "       'Return to college; Take online courses; Participate in hackathons',\n",
       "       'Return to college; Take online courses; Contribute to open source; Participate in hackathons',\n",
       "       'Contribute to open source; Participate in hackathons; Buy books and work through the exercises; Conferences/meet-ups',\n",
       "       \"Master's degree; Take online courses; Contribute to open source; Participate in hackathons\",\n",
       "       'Return to college; Get a job as a QA tester; Contribute to open source',\n",
       "       'Bootcamp; Conferences/meet-ups; Other',\n",
       "       'Take online courses; Part-time/evening courses; Participate in hackathons; Participate in online coding competitions',\n",
       "       'Contribute to open source; Participate in hackathons; Participate in online coding competitions; Buy books and work through the exercises',\n",
       "       'Get a job as a QA tester; Take online courses; Part-time/evening courses; Participate in online coding competitions',\n",
       "       'Get a job as a QA tester; Take online courses',\n",
       "       'Return to college; Contribute to open source; Part-time/evening courses; Other',\n",
       "       'Get a job as a QA tester; Take online courses; Bootcamp'],\n",
       "      dtype=object)"
      ]
     },
     "execution_count": 15,
     "metadata": {},
     "output_type": "execute_result"
    }
   ],
   "source": [
    "# unique values\n",
    "data_au_professional_no_na.CousinEducation.unique()"
   ]
  },
  {
   "cell_type": "code",
   "execution_count": 18,
   "id": "ad82bf6d",
   "metadata": {
    "ExecuteTime": {
     "end_time": "2022-09-17T12:24:55.926506Z",
     "start_time": "2022-09-17T12:24:54.655886Z"
    },
    "hidden": true
   },
   "outputs": [
    {
     "data": {
      "image/png": "[encoded data removed]",
      "text/plain": [
       "<Figure size 640x480 with 1 Axes>"
      ]
     },
     "metadata": {},
     "output_type": "display_data"
    }
   ],
   "source": [
    "# creating a list with all possible values for CousinEduation\n",
    "possible_vals = [\"Take online courses\", \"Buy books and work through the exercises\", \n",
    "                 \"None of these\", \"Part-time/evening courses\", \"Return to college\",\n",
    "                 \"Contribute to open source\", \"Conferences/meet-ups\", \"Bootcamp\",\n",
    "                 \"Get a job as a QA tester\", \"Participate in online coding competitions\",\n",
    "                 \"Master's degree\", \"Participate in hackathons\", \"Other\"]\n",
    "\n",
    "# function to clean and plot all the strings shown on \"CousinEducation\"\n",
    "\n",
    "def clean_and_plot(df, title='Method of Educating Suggested', plot=True):\n",
    "    '''\n",
    "    INPUT \n",
    "        df - a dataframe holding the CousinEducation column\n",
    "        title - string the title of your plot\n",
    "        axis - axis object\n",
    "        plot - bool providing whether or not you want a plot back\n",
    "        \n",
    "    OUTPUT\n",
    "        study_df - a dataframe with the count of how many individuals\n",
    "        Displays a plot of pretty things related to the CousinEducation column.\n",
    "    '''\n",
    "    study = df['CousinEducation'].value_counts().reset_index()\n",
    "    study.rename(columns={'index': 'method', 'CousinEducation': 'count'}, inplace=True)\n",
    "    study_df = total_count(study, 'method', 'count', possible_vals)\n",
    "\n",
    "    study_df.set_index('method', inplace=True)\n",
    "    if plot:\n",
    "        (study_df/study_df.sum()).plot(kind='barh', legend=None);\n",
    "        plt.title(title);\n",
    "        plt.show()\n",
    "    props_study_df = study_df/study_df.sum()\n",
    "    return props_study_df\n",
    "\n",
    "props_df = clean_and_plot(data_au_professional_no_na)    "
   ]
  },
  {
   "cell_type": "markdown",
   "id": "6a38a2e8",
   "metadata": {
    "hidden": true,
    "id": "wNwcpgL5wNdQ"
   },
   "source": [
    "We can see that taking online courses is the most suggested method. Followed by buying books and contributing to open source. All these three methods sum up for almost 48%. It is interesting to notice that none of them have any relation to pursuing a higher degree or following any kind of formal education."
   ]
  },
  {
   "cell_type": "markdown",
   "id": "XTbzBQIzpcdj",
   "metadata": {
    "hidden": true,
    "id": "XTbzBQIzpcdj"
   },
   "source": [
    "## 3.2 Are these developers biased in relating to the most effective method that they suggest?"
   ]
  },
  {
   "cell_type": "markdown",
   "id": "2f162e1c",
   "metadata": {
    "heading_collapsed": true,
    "hidden": true
   },
   "source": [
    "### 3.2.1 FormalEducation column check"
   ]
  },
  {
   "cell_type": "markdown",
   "id": "c78771e2",
   "metadata": {
    "hidden": true
   },
   "source": [
    "We now know that the majority of developers do not suggest following a higher education degree in order to land your first opportunity within Tech, but how about their own level of education? Are they all on the same page regarding the most effective methods of breaking into the tech industry or are they biased?"
   ]
  },
  {
   "cell_type": "code",
   "execution_count": 35,
   "id": "0OapGGM9pg67",
   "metadata": {
    "ExecuteTime": {
     "end_time": "2022-09-17T12:34:07.317682Z",
     "start_time": "2022-09-17T12:34:07.308693Z"
    },
    "colab": {
     "base_uri": "https://localhost:8080/"
    },
    "hidden": true,
    "id": "0OapGGM9pg67",
    "outputId": "ee393511-0eb0-49f3-f1f3-bc60f0cf364e"
   },
   "outputs": [
    {
     "name": "stdout",
     "output_type": "stream",
     "text": [
      "Total missing values for FormalEducation 0 rows\n",
      "Percentage of missing values for FormalEducation: 0.0%\n"
     ]
    }
   ],
   "source": [
    "# We will use the \"CousinEducation\" column to understand Australian developers recommendations\n",
    "# Let's first check how many missing values we've got\n",
    "\n",
    "missing_values_formal_education = data_au_professional.FormalEducation.isna().sum()\n",
    "\n",
    "print(\"Total missing values for FormalEducation {} rows\".format(missing_values_cousin_education))\n",
    "print(\"Percentage of missing values for FormalEducation: {}%\".format(\n",
    "        round(missing_values_cousin_education / data_au_professional.FormalEducation.shape[0], 2) * 100))"
   ]
  },
  {
   "cell_type": "code",
   "execution_count": 38,
   "id": "57f716cc",
   "metadata": {
    "ExecuteTime": {
     "end_time": "2022-09-17T12:34:24.680631Z",
     "start_time": "2022-09-17T12:34:24.669640Z"
    },
    "hidden": true,
    "scrolled": true
   },
   "outputs": [
    {
     "data": {
      "text/plain": [
       "[\"Bachelor's degree\",\n",
       " 'Doctoral degree',\n",
       " 'I never completed any formal education',\n",
       " 'I prefer not to answer',\n",
       " \"Master's degree\",\n",
       " 'Primary/elementary school',\n",
       " 'Professional degree',\n",
       " 'Secondary school',\n",
       " \"Some college/university study without earning a bachelor's degree\"]"
      ]
     },
     "execution_count": 38,
     "metadata": {},
     "output_type": "execute_result"
    }
   ],
   "source": [
    "# Checking unique values for CousinEducation\n",
    "sorted(data_au_professional.FormalEducation.unique())"
   ]
  },
  {
   "cell_type": "markdown",
   "id": "fdd47dcf",
   "metadata": {
    "ExecuteTime": {
     "end_time": "2022-09-17T12:36:03.272068Z",
     "start_time": "2022-09-17T12:36:03.222105Z"
    },
    "heading_collapsed": true,
    "hidden": true
   },
   "source": [
    "### 3.2.2 FormalEducation count "
   ]
  },
  {
   "cell_type": "code",
   "execution_count": 41,
   "id": "52ef596f",
   "metadata": {
    "ExecuteTime": {
     "end_time": "2022-09-17T12:37:43.087233Z",
     "start_time": "2022-09-17T12:37:43.071249Z"
    },
    "hidden": true
   },
   "outputs": [
    {
     "data": {
      "text/plain": [
       "FormalEducation\n",
       "Bachelor's degree                                                    383\n",
       "Master's degree                                                       93\n",
       "Some college/university study without earning a bachelor's degree     91\n",
       "Secondary school                                                      43\n",
       "Doctoral degree                                                       18\n",
       "I prefer not to answer                                                 5\n",
       "Professional degree                                                    5\n",
       "I never completed any formal education                                 3\n",
       "Primary/elementary school                                              2\n",
       "dtype: int64"
      ]
     },
     "execution_count": 41,
     "metadata": {},
     "output_type": "execute_result"
    }
   ],
   "source": [
    "# FormalEducation count\n",
    "data_au_professional.groupby('FormalEducation').size().sort_values(ascending=False)"
   ]
  },
  {
   "cell_type": "code",
   "execution_count": 46,
   "id": "5c9c2a65",
   "metadata": {
    "ExecuteTime": {
     "end_time": "2022-09-17T12:40:40.340189Z",
     "start_time": "2022-09-17T12:40:40.317232Z"
    },
    "hidden": true
   },
   "outputs": [
    {
     "data": {
      "text/plain": [
       "FormalEducation\n",
       "Bachelor's degree                                                    59.6\n",
       "Master's degree                                                      14.5\n",
       "Some college/university study without earning a bachelor's degree    14.2\n",
       "Secondary school                                                      6.7\n",
       "Doctoral degree                                                       2.8\n",
       "I prefer not to answer                                                0.8\n",
       "Professional degree                                                   0.8\n",
       "I never completed any formal education                                0.5\n",
       "Primary/elementary school                                             0.3\n",
       "dtype: float64"
      ]
     },
     "execution_count": 46,
     "metadata": {},
     "output_type": "execute_result"
    }
   ],
   "source": [
    "# % of FormalEducation values\n",
    "round(data_au_professional.groupby('FormalEducation').size().sort_values(ascending=False) \n",
    "      / data_au_professional.shape[0], 3) * 100"
   ]
  },
  {
   "cell_type": "markdown",
   "id": "dfe82264",
   "metadata": {
    "hidden": true
   },
   "source": [
    "I was quite surprised when I saw that a whopping 77% of those developers actually have a higher education degree (bachelor’s, master’s or doctoral degree), as we can see on the chart below, so they have been through the university experience and they still feel that is not the most effective method.\n",
    "\n",
    "It is fair to say that these developers are seeing the positive rise of online learning and all the benefits that it provides."
   ]
  },
  {
   "cell_type": "code",
   "execution_count": 22,
   "id": "57ARMz7mqZov",
   "metadata": {
    "hidden": true,
    "id": "57ARMz7mqZov"
   },
   "outputs": [],
   "source": [
    "test = data_au_professional[data_au_professional.Professional[data_au_professional.isnull().sum() > 0]]"
   ]
  },
  {
   "cell_type": "code",
   "execution_count": null,
   "id": "bd75f80b",
   "metadata": {
    "ExecuteTime": {
     "end_time": "2022-09-13T12:27:33.506826Z",
     "start_time": "2022-09-13T12:27:33.118732Z"
    },
    "hidden": true,
    "id": "bd75f80b",
    "outputId": "fe83cf92-0c0f-4a4b-9431-7c97fa22c066"
   },
   "outputs": [
    {
     "data": {
      "text/plain": [
       "Respondent                   0.000000\n",
       "CareerSatisfaction           0.169229\n",
       "JobSatisfaction              0.214352\n",
       "HoursPerWeek                 0.599159\n",
       "StackOverflowSatisfaction    0.287983\n",
       "Salary                       0.749163\n",
       "ExpectedSalary               0.950070\n",
       "dtype: float64"
      ]
     },
     "execution_count": 8,
     "metadata": {},
     "output_type": "execute_result"
    }
   ],
   "source": [
    "# % of null numerical columns\n",
    "data_num.isnull().sum() / data.shape[0]"
   ]
  },
  {
   "cell_type": "code",
   "execution_count": null,
   "id": "9e94796d",
   "metadata": {
    "ExecuteTime": {
     "end_time": "2022-09-15T12:04:30.682731Z",
     "start_time": "2022-09-15T12:04:30.647395Z"
    },
    "hidden": true,
    "id": "9e94796d",
    "outputId": "e88f1712-5947-46ba-85b3-6ddeb45961e1"
   },
   "outputs": [
    {
     "data": {
      "text/plain": [
       "Professional\n",
       "Professional developer                                  0.704272\n",
       "Professional non-developer who sometimes writes code    0.122673\n",
       "Student                                                 0.121577\n",
       "Used to be a professional developer                     0.027382\n",
       "None of these                                           0.024096\n",
       "dtype: float64"
      ]
     },
     "execution_count": 29,
     "metadata": {},
     "output_type": "execute_result"
    }
   ],
   "source": [
    "# % of types of professionals\n",
    "data_au.groupby('Professional').size().sort_values(ascending=False) / data_au.shape[0]"
   ]
  },
  {
   "cell_type": "markdown",
   "id": "1df15328",
   "metadata": {
    "hidden": true,
    "id": "1df15328"
   },
   "source": [
    "## 3.3 Is formal education important if you want to pursue this career path?"
   ]
  },
  {
   "cell_type": "markdown",
   "id": "4821aee5",
   "metadata": {
    "ExecuteTime": {
     "end_time": "2022-09-13T12:27:39.741587Z",
     "start_time": "2022-09-13T12:27:39.725603Z"
    },
    "hidden": true,
    "id": "6b8385fd"
   },
   "source": [
    "Let’s now dive a little bit deeper to understand how important it is for these developers having a formal education.\n",
    "\n",
    "The question that they answered was “Overall, how important has your formal schooling and education been to your career success?”."
   ]
  },
  {
   "cell_type": "markdown",
   "id": "f5f35df0",
   "metadata": {
    "heading_collapsed": true,
    "hidden": true
   },
   "source": [
    "### 3.3.1 \"EducationImportant\" column check"
   ]
  },
  {
   "cell_type": "code",
   "execution_count": 47,
   "id": "017d4bed",
   "metadata": {
    "ExecuteTime": {
     "end_time": "2022-09-17T12:42:42.771947Z",
     "start_time": "2022-09-17T12:42:42.757966Z"
    },
    "hidden": true
   },
   "outputs": [
    {
     "name": "stdout",
     "output_type": "stream",
     "text": [
      "Total missing values for FormalEducation 0 rows\n",
      "Percentage of missing values for FormalEducation: 0.0%\n"
     ]
    }
   ],
   "source": [
    "# We will use the \"CousinEducation\" column to understand Australian developers recommendations\n",
    "# Let's first check how many missing values we've got\n",
    "\n",
    "missing_values_education_important = data_au_professional.EducationImportant.isna().sum()\n",
    "\n",
    "print(\"Total missing values for FormalEducation {} rows\".format(missing_values_cousin_education))\n",
    "print(\"Percentage of missing values for FormalEducation: {}%\".format(\n",
    "        round(missing_values_cousin_education / data_au_professional.EducationImportant.shape[0], 2) * 100))"
   ]
  },
  {
   "cell_type": "code",
   "execution_count": 49,
   "id": "4cf63967",
   "metadata": {
    "ExecuteTime": {
     "end_time": "2022-09-17T12:43:11.593064Z",
     "start_time": "2022-09-17T12:43:11.583079Z"
    },
    "hidden": true
   },
   "outputs": [
    {
     "data": {
      "text/plain": [
       "array(['Somewhat important', nan, 'Very important',\n",
       "       'Not at all important', 'Not very important', 'Important'],\n",
       "      dtype=object)"
      ]
     },
     "execution_count": 49,
     "metadata": {},
     "output_type": "execute_result"
    }
   ],
   "source": [
    "# Checking unique values for CousinEducation\n",
    "data_au_professional.EducationImportant.unique()"
   ]
  },
  {
   "cell_type": "code",
   "execution_count": 66,
   "id": "3db8c5cd",
   "metadata": {
    "ExecuteTime": {
     "end_time": "2022-09-17T12:48:17.352607Z",
     "start_time": "2022-09-17T12:48:17.345595Z"
    },
    "hidden": true
   },
   "outputs": [
    {
     "name": "stdout",
     "output_type": "stream",
     "text": [
      "For EducationImportant we have 187 nulls\n",
      "That represents 29.08 % of null values\n"
     ]
    }
   ],
   "source": [
    "# We have some nan values on the column, so let's check how many nulls we have\n",
    "education_important_nulls = data_au_professional.EducationImportant.isnull().sum()\n",
    "\n",
    "print(\"For EducationImportant we have {} nulls\".format(education_important_nulls))\n",
    "print(\"That represents {} % of null values\".format(\n",
    "                                            round(education_important_nulls / data_au_professional.shape[0] * 100, 2)))"
   ]
  },
  {
   "cell_type": "markdown",
   "id": "2ada8094",
   "metadata": {
    "hidden": true
   },
   "source": [
    "We only have 29% of null values, so we'll just desconsider it.\n",
    "Later on we will group some of the values and only then we will drop the null values"
   ]
  },
  {
   "cell_type": "markdown",
   "id": "79108f1f",
   "metadata": {
    "hidden": true
   },
   "source": [
    "### 3.3.2 EducationImportant grouping answers and count"
   ]
  },
  {
   "cell_type": "code",
   "execution_count": 79,
   "id": "c32f9f0d",
   "metadata": {
    "ExecuteTime": {
     "end_time": "2022-09-17T13:02:02.695016Z",
     "start_time": "2022-09-17T13:02:02.683028Z"
    },
    "hidden": true
   },
   "outputs": [
    {
     "data": {
      "text/plain": [
       "EducationImportant\n",
       "Somewhat important      127\n",
       "Important               123\n",
       "Not very important       93\n",
       "Not at all important     57\n",
       "Very important           56\n",
       "dtype: int64"
      ]
     },
     "execution_count": 79,
     "metadata": {},
     "output_type": "execute_result"
    }
   ],
   "source": [
    "# counting values for EducationImportant\n",
    "data_au_professional.groupby('EducationImportant').size().sort_values(ascending=False)"
   ]
  },
  {
   "cell_type": "code",
   "execution_count": 88,
   "id": "51f8580b",
   "metadata": {
    "ExecuteTime": {
     "end_time": "2022-09-17T13:04:45.710863Z",
     "start_time": "2022-09-17T13:04:45.691892Z"
    },
    "hidden": true,
    "scrolled": true
   },
   "outputs": [
    {
     "name": "stdout",
     "output_type": "stream",
     "text": [
      "EducationImportant\n",
      "Somewhat important      28.0\n",
      "Important               27.0\n",
      "Not very important      20.0\n",
      "Not at all important    12.0\n",
      "Very important          12.0\n",
      "dtype: float64\n"
     ]
    }
   ],
   "source": [
    "# % of EducationImportant values excluding nulls\n",
    "print(\n",
    "    round(data_au_professional.groupby('EducationImportant').size().sort_values(ascending=False) \n",
    "        / data_au_professional.groupby('EducationImportant').size().sum(), 2) * 100)"
   ]
  },
  {
   "cell_type": "code",
   "execution_count": 93,
   "id": "b6050475",
   "metadata": {
    "ExecuteTime": {
     "end_time": "2022-09-17T13:07:21.356979Z",
     "start_time": "2022-09-17T13:07:21.336999Z"
    },
    "hidden": true
   },
   "outputs": [],
   "source": [
    "# Lets create groups for types of answer on EducationImportant based on importance\n",
    "\n",
    "# copying the dataframe\n",
    "data_au_professionalq3 = data_au_professional.copy()\n",
    "\n",
    "# creating categories for types of answers \n",
    "data_au_professionalq3['EducationImportantGrouped'] = np.where( data_au_professional['EducationImportant'] == 'Somewhat important',\n",
    "                                                          'Somewhat important or less' ,\n",
    "                                                np.where( data_au_professional['EducationImportant'] == 'Not very important',\n",
    "                                                          'Somewhat important or less' ,\n",
    "                                                np.where( data_au_professional['EducationImportant'] == 'Not at all important',\n",
    "                                                          'Somewhat important or less',\n",
    "                                                np.where( data_au_professional['EducationImportant'] == 'Important',\n",
    "                                                          'Important',\n",
    "                                                np.where( data_au_professional['EducationImportant'] == 'Very important',\n",
    "                                                          'Very important', 'null')))))"
   ]
  },
  {
   "cell_type": "code",
   "execution_count": 94,
   "id": "5a975c18",
   "metadata": {
    "ExecuteTime": {
     "end_time": "2022-09-17T13:07:21.776280Z",
     "start_time": "2022-09-17T13:07:21.767289Z"
    },
    "hidden": true
   },
   "outputs": [],
   "source": [
    "# remove nulls\n",
    "data_au_professionalq3 = data_au_professionalv2[data_au_professionalv2['EducationImportantGrouped'] != 'null']"
   ]
  },
  {
   "cell_type": "code",
   "execution_count": 95,
   "id": "ed5d7e0b",
   "metadata": {
    "ExecuteTime": {
     "end_time": "2022-09-17T13:07:42.871298Z",
     "start_time": "2022-09-17T13:07:42.863306Z"
    },
    "hidden": true
   },
   "outputs": [
    {
     "data": {
      "text/plain": [
       "EducationImportantGrouped\n",
       "Somewhat important or less    0.607456\n",
       "Important                     0.269737\n",
       "Very important                0.122807\n",
       "dtype: float64"
      ]
     },
     "execution_count": 95,
     "metadata": {},
     "output_type": "execute_result"
    }
   ],
   "source": [
    "# % of each type of answer\n",
    "data_au_professionalq3.groupby('EducationImportantGrouped').size().sort_values(ascending=False) / datav3.shape[0]"
   ]
  },
  {
   "cell_type": "markdown",
   "id": "ca644f16",
   "metadata": {
    "hidden": true
   },
   "source": [
    "Some of the key findings from this data would be, 1/3 of them judge that formal education is “Not very important” or “Not at all important” to their career success.\n",
    "Only 12% of these developers find formal education to be very important for their career success."
   ]
  },
  {
   "cell_type": "markdown",
   "id": "c3b316b2",
   "metadata": {
    "id": "c3b316b2"
   },
   "source": [
    "# 4.0 Conclusions"
   ]
  },
  {
   "cell_type": "markdown",
   "id": "8d7a7980",
   "metadata": {
    "ExecuteTime": {
     "end_time": "2022-09-15T12:11:06.623048Z",
     "start_time": "2022-09-15T12:11:06.615070Z"
    },
    "id": "00ed6c2c",
    "outputId": "005d36fe-f39a-4da8-bdb7-b8b87f5363e5"
   },
   "source": [
    "Here are some of the key findings that we were able to unravel with the Stack Overflow survey dataset:\n",
    "\n",
    "- The most effective methods to gain the skills to break into the tech field by Australian developers were Online Courses, Buy books and Contribute to open source;\n",
    "- We were able to see that the vast majority of these developers have a higher degree education, and they were still finding other methods more efficient to gain the skills need to land your first job with tech;\n",
    "- Formal education is not something they consider very important for their career success either."
   ]
  }
 ],
 "metadata": {
  "colab": {
   "provenance": []
  },
  "kernelspec": {
   "display_name": "Python 3",
   "language": "python",
   "name": "python3"
  },
  "language_info": {
   "codemirror_mode": {
    "name": "ipython",
    "version": 3
   },
   "file_extension": ".py",
   "mimetype": "text/x-python",
   "name": "python",
   "nbconvert_exporter": "python",
   "pygments_lexer": "ipython3",
   "version": "3.8.8"
  }
 },
 "nbformat": 4,
 "nbformat_minor": 5
}
